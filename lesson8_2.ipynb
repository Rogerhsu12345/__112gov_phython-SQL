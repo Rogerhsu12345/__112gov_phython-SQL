{
 "cells": [
  {
   "cell_type": "code",
   "execution_count": 1,
   "metadata": {},
   "outputs": [
    {
     "name": "stdout",
     "output_type": "stream",
     "text": [
      "徐國堂\n",
      "78\n",
      "92\n",
      "88\n",
      "=============\n",
      "張國堂\n",
      "58\n",
      "42\n",
      "25\n",
      "=============\n",
      "陳國堂\n",
      "33\n",
      "55\n",
      "65\n",
      "=============\n"
     ]
    }
   ],
   "source": [
    "students = [{'名字':'徐國堂','國文':78,'英文':92,'數學':88},\n",
    "            {'名字':'張國堂','國文':58,'英文':42,'數學':25},\n",
    "            {'名字':'陳國堂','國文':33,'英文':55,'數學':65},]\n",
    "#是序列資料 所以可for in\n",
    "for student in students:\n",
    "    for key in student:\n",
    "        print(student[key])\n",
    "    print(\"=============\")\n"
   ]
  }
 ],
 "metadata": {
  "kernelspec": {
   "display_name": "Python 3",
   "language": "python",
   "name": "python3"
  },
  "language_info": {
   "codemirror_mode": {
    "name": "ipython",
    "version": 3
   },
   "file_extension": ".py",
   "mimetype": "text/x-python",
   "name": "python",
   "nbconvert_exporter": "python",
   "pygments_lexer": "ipython3",
   "version": "3.10.13"
  }
 },
 "nbformat": 4,
 "nbformat_minor": 2
}
