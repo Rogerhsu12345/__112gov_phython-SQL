{
 "cells": [
  {
   "cell_type": "code",
   "execution_count": 25,
   "metadata": {},
   "outputs": [],
   "source": [
    "#自訂function\n",
    "def say_hello(name):\n",
    "    print(f'hello {name}')\n"
   ]
  },
  {
   "cell_type": "code",
   "execution_count": 9,
   "metadata": {},
   "outputs": [
    {
     "ename": "TypeError",
     "evalue": "say_hello() missing 1 required positional argument: 'name'",
     "output_type": "error",
     "traceback": [
      "\u001b[0;31m---------------------------------------------------------------------------\u001b[0m",
      "\u001b[0;31mTypeError\u001b[0m                                 Traceback (most recent call last)",
      "Cell \u001b[0;32mIn[9], line 2\u001b[0m\n\u001b[1;32m      1\u001b[0m \u001b[38;5;66;03m#呼叫functio,引述值\u001b[39;00m\n\u001b[0;32m----> 2\u001b[0m \u001b[43msay_hello\u001b[49m\u001b[43m(\u001b[49m\u001b[43m)\u001b[49m\n",
      "\u001b[0;31mTypeError\u001b[0m: say_hello() missing 1 required positional argument: 'name'"
     ]
    }
   ],
   "source": [
    "#呼叫functio,引述值\n",
    "say_hello()"
   ]
  },
  {
   "cell_type": "code",
   "execution_count": 26,
   "metadata": {},
   "outputs": [
    {
     "name": "stdout",
     "output_type": "stream",
     "text": [
      "hello roger\n"
     ]
    }
   ],
   "source": [
    "say_hello(name=\"roger\")"
   ]
  },
  {
   "cell_type": "code",
   "execution_count": 32,
   "metadata": {},
   "outputs": [],
   "source": [
    "def menu(wine,entree,dessert):\n",
    "    print(f'前酒:{wine}')\n",
    "    print(f'主餐:{entree}')\n",
    "    print(f'甜點:{dessert}')\n"
   ]
  },
  {
   "cell_type": "code",
   "execution_count": 33,
   "metadata": {},
   "outputs": [
    {
     "name": "stdout",
     "output_type": "stream",
     "text": [
      "前酒:white\n",
      "主餐:牛排\n",
      "甜點:蛋糕\n"
     ]
    }
   ],
   "source": [
    "menu(entree='牛排',dessert='蛋糕',wine='white')"
   ]
  },
  {
   "cell_type": "code",
   "execution_count": 34,
   "metadata": {},
   "outputs": [
    {
     "name": "stdout",
     "output_type": "stream",
     "text": [
      "前酒:white\n",
      "主餐:牛排\n",
      "甜點:蛋糕\n"
     ]
    }
   ],
   "source": [
    "menu('white',entree='牛排',dessert='蛋糕')"
   ]
  },
  {
   "cell_type": "code",
   "execution_count": 35,
   "metadata": {},
   "outputs": [],
   "source": [
    "#可以有type hint\n",
    "def menu(wine:str,entree:str,dessert:str):\n",
    "    print(f'前酒:{wine}')\n",
    "    print(f'主餐:{entree}')\n",
    "    print(f'甜點:{dessert}')"
   ]
  },
  {
   "cell_type": "code",
   "execution_count": 36,
   "metadata": {},
   "outputs": [
    {
     "name": "stdout",
     "output_type": "stream",
     "text": [
      "前酒:white\n",
      "主餐:牛排\n",
      "甜點:蛋糕\n"
     ]
    }
   ],
   "source": [
    "menu('white',entree='牛排',dessert='蛋糕')"
   ]
  },
  {
   "cell_type": "code",
   "execution_count": 43,
   "metadata": {},
   "outputs": [],
   "source": [
    "#不用print\n",
    "def menu(wine:str,entree:str,dessert:str)->dict[str,str]: #加type hint 可讀性高\n",
    "    return {'前酒':wine,'主餐':entree,'甜點':dessert}"
   ]
  },
  {
   "cell_type": "code",
   "execution_count": 44,
   "metadata": {},
   "outputs": [],
   "source": [
    "my_menu=menu('white',entree='牛排',dessert='蛋糕')"
   ]
  },
  {
   "cell_type": "code",
   "execution_count": 45,
   "metadata": {},
   "outputs": [
    {
     "data": {
      "text/plain": [
       "{'前酒': 'white', '主餐': '牛排', '甜點': '蛋糕'}"
      ]
     },
     "execution_count": 45,
     "metadata": {},
     "output_type": "execute_result"
    }
   ],
   "source": [
    "my_menu"
   ]
  },
  {
   "cell_type": "code",
   "execution_count": 46,
   "metadata": {},
   "outputs": [
    {
     "name": "stdout",
     "output_type": "stream",
     "text": [
      "('白酒', '黑酒')\n"
     ]
    }
   ],
   "source": [
    "def menu(*args):\n",
    "    print(args)\n",
    "\n",
    "menu('白酒','黑酒')"
   ]
  },
  {
   "cell_type": "code",
   "execution_count": null,
   "metadata": {},
   "outputs": [],
   "source": []
  }
 ],
 "metadata": {
  "kernelspec": {
   "display_name": "Python 3",
   "language": "python",
   "name": "python3"
  },
  "language_info": {
   "codemirror_mode": {
    "name": "ipython",
    "version": 3
   },
   "file_extension": ".py",
   "mimetype": "text/x-python",
   "name": "python",
   "nbconvert_exporter": "python",
   "pygments_lexer": "ipython3",
   "version": "3.10.13"
  }
 },
 "nbformat": 4,
 "nbformat_minor": 2
}
